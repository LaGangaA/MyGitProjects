{
 "cells": [
  {
   "cell_type": "markdown",
   "metadata": {},
   "source": [
    "Compilo i campi di un file word già esistente"
   ]
  },
  {
   "cell_type": "code",
   "execution_count": 15,
   "metadata": {},
   "outputs": [],
   "source": [
    "import os, sys\n",
    "from docxtpl import DocxTemplate, InlineImage\n",
    "from docx.shared import Cm, Inches, Mm, Emu\n",
    "\n",
    "doc = DocxTemplate('Template.docx')\n",
    "# placeholder_1 = InlineImage(doc, 'LLC_Formula.png', Cm(5))\n",
    "placeholder_1 = InlineImage(doc, 'PlaceHolder.GIF', Cm(15))\n",
    "context = {\n",
    "    'Name':'Alessandro',\n",
    "    'placeholder_1':placeholder_1,\n",
    "    }\n",
    "\n",
    "doc.render(context)\n",
    "doc.save('Template_rendered.docx')\n"
   ]
  },
  {
   "cell_type": "markdown",
   "metadata": {},
   "source": [
    "Faccio un file word con campi da riempire"
   ]
  },
  {
   "cell_type": "code",
   "execution_count": 1,
   "metadata": {},
   "outputs": [],
   "source": [
    "from docx import Document\n",
    "\n",
    "document = Document()\n",
    "\n",
    "p = document.add_paragraph(\"My Name is \")\n",
    "p.add_run(\"{{Name}}\").bold=True\n",
    "\n",
    "document.add_paragraph(\"{{placeholder}}\")\n",
    "\n",
    "document.save(\"test.docx\")"
   ]
  },
  {
   "cell_type": "markdown",
   "metadata": {},
   "source": [
    "Riempio i campi del word creato nella sezione precedente"
   ]
  },
  {
   "cell_type": "code",
   "execution_count": 4,
   "metadata": {},
   "outputs": [],
   "source": [
    "import os, sys\n",
    "from docxtpl import DocxTemplate, InlineImage\n",
    "from docx.shared import Cm, Inches, Mm, Emu\n",
    "\n",
    "doc = DocxTemplate('test.docx')\n",
    "# placeholder_1 = InlineImage(doc, 'LLC_Formula.png', Cm(5))\n",
    "placeholder_1 = InlineImage(doc, 'PlaceHolder.GIF', Cm(10))\n",
    "context = {\n",
    "    'Name':'Alessandro',\n",
    "    'placeholder':placeholder_1,\n",
    "    }\n",
    "# Replace the first picture\n",
    "doc.replace_pic(\"PlaceHolder.GIF\", \"LLC_Circuit.png\")\n",
    "doc.render(context)\n",
    "doc.save('Template_rendered1.docx')\n"
   ]
  }
 ],
 "metadata": {
  "kernelspec": {
   "display_name": "Python 3",
   "language": "python",
   "name": "python3"
  },
  "language_info": {
   "codemirror_mode": {
    "name": "ipython",
    "version": 3
   },
   "file_extension": ".py",
   "mimetype": "text/x-python",
   "name": "python",
   "nbconvert_exporter": "python",
   "pygments_lexer": "ipython3",
   "version": "3.12.0"
  }
 },
 "nbformat": 4,
 "nbformat_minor": 2
}
