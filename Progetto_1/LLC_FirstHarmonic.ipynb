{
 "cells": [
  {
   "cell_type": "markdown",
   "metadata": {},
   "source": [
    "## LLC DESIGN\n",
    "### INPUT\n",
    "Define the design input"
   ]
  },
  {
   "cell_type": "code",
   "execution_count": 28,
   "metadata": {},
   "outputs": [],
   "source": [
    "import numpy as np\n",
    "\n",
    "Lr = 23e-6 # H resonant inductor\n",
    "Lm = 105e-6 # H magnetize inductance\n",
    "Cr = 200e-9 # F resonance frequency\n",
    "fsw = 100e3 # Hz switching frequency\n",
    "Pin = 22 # kW input power\n",
    "eta = 0.95 # efficiency\n",
    "Vo = 880 # V output voltage\n",
    "Vi = 800 # V input voltage\n",
    "MFT_n = 1.1 # Transformer turn ratio\n",
    "\n"
   ]
  },
  {
   "cell_type": "markdown",
   "metadata": {},
   "source": [
    "## Calculation\n",
    "here the derived data with preliminary calculation if you want use python for calculation. If you want to implement formula in excel go in the next section"
   ]
  },
  {
   "cell_type": "code",
   "execution_count": 29,
   "metadata": {},
   "outputs": [
    {
     "name": "stdout",
     "output_type": "stream",
     "text": [
      "36.34081561005854\n"
     ]
    }
   ],
   "source": [
    "# Make calculations\n",
    "# Rl = Vo**2/(Pin*1e3*eta)\n",
    "# Rac = Rl*8/(np.pi**2)*MFT_n**2\n",
    "# Q = (Lr/Cr)/Rac\n",
    "# \n",
    "# f = np.linspace(fsw*0.1,fsw*100,200)\n",
    "\n",
    "# print(Rac)"
   ]
  },
  {
   "cell_type": "markdown",
   "metadata": {},
   "source": [
    "## Define the excel structure"
   ]
  },
  {
   "cell_type": "code",
   "execution_count": 52,
   "metadata": {},
   "outputs": [
    {
     "name": "stderr",
     "output_type": "stream",
     "text": [
      "c:\\Dati\\Python\\Lib\\site-packages\\xlsxwriter\\workbook.py:368: UserWarning: Calling close() on already closed file.\n",
      "  warn(\"Calling close() on already closed file.\")\n"
     ]
    }
   ],
   "source": [
    "import pandas as pd\n",
    "import xlsxwriter as xl\n",
    "import math\n",
    "\n",
    "# Create a Pandas Excel writer using XlsxWriter as the engine.\n",
    "writer = pd.ExcelWriter(\"LLC_design.xlsx\", engine=\"xlsxwriter\")\n",
    "# Get the xlsxwriter workbook and worksheet objects.\n",
    "workbook = writer.book\n",
    "worksheet = workbook.add_worksheet('Base')\n",
    "worksheet.hide_gridlines(2)\n",
    "\n",
    "# define all formatas\n",
    "param_format = workbook.add_format({'bold': True, 'italic': True,'bg_color': '#FEFBB8'})\n",
    "um_format = workbook.add_format({'italic': True})\n",
    "result_format=workbook.add_format({'bold': True, 'italic': True,'bg_color': '#C4D79B'})\n",
    "\n",
    "# define all quantities name\n",
    "worksheet.write(\"J11\",\"Lr\",param_format)\n",
    "worksheet.write(\"J12\",\"Lm\",param_format)\n",
    "worksheet.write(\"J13\",\"Cr\",param_format)\n",
    "worksheet.write(\"J14\",\"fsw\",param_format)\n",
    "worksheet.write(\"N11\",\"Pin\",param_format)\n",
    "worksheet.write(\"N12\",\"eta\",param_format)\n",
    "worksheet.write(\"N13\",\"Vo\",param_format)\n",
    "worksheet.write(\"N14\",\"Vi\",param_format)\n",
    "worksheet.write(\"N15\",\"MFT_n\",param_format)\n",
    "\n",
    "# define all values\n",
    "worksheet.write(\"K11\",Lr)\n",
    "worksheet.write(\"K12\",Lm)\n",
    "worksheet.write(\"K13\",Cr)\n",
    "worksheet.write(\"K14\",fsw)\n",
    "worksheet.write(\"O11\",Pin)\n",
    "worksheet.write(\"O12\",eta)\n",
    "worksheet.write(\"O13\",Vo)\n",
    "worksheet.write(\"O14\",Vi)\n",
    "worksheet.write(\"O15\",MFT_n)\n",
    "\n",
    "# define UM\n",
    "worksheet.write(\"L11\",\"H\",um_format)\n",
    "worksheet.write(\"L12\",\"H\",um_format)\n",
    "worksheet.write(\"L13\",\"F\",um_format)\n",
    "worksheet.write(\"L14\",\"Hz\",um_format)\n",
    "worksheet.write(\"P11\",\"kW\",um_format)\n",
    "worksheet.write(\"P12\",\"-\",um_format)\n",
    "worksheet.write(\"P13\",\"V\",um_format)\n",
    "worksheet.write(\"P14\",\"V\",um_format)\n",
    "worksheet.write(\"P15\",\"-\",um_format)\n",
    "\n",
    "# Calculation of the load resistance\n",
    "worksheet.write(\"N17\",\"RL\",param_format)\n",
    "worksheet.write_formula(\"O17\",'=O13^2/(O11*1000*O12)')\n",
    "worksheet.write(\"P17\",\"\\u03A9\",um_format)\n",
    "\n",
    "# Calculation of the Gain\n",
    "worksheet.write(\"N18\",\"M\",param_format)\n",
    "worksheet.write_formula(\"O18\",\"=O13/O15/O14\")\n",
    "worksheet.write(\"P18\",\"-\",um_format)\n",
    "\n",
    "# Calculation of the ac resistance\n",
    "worksheet.write(\"J17\",\"Rac\",param_format)\n",
    "worksheet.write_formula(\"K17\",\"=O17*8/PI()^2*O15^2\")\n",
    "worksheet.write(\"L17\",\"\\u03A9\",um_format)\n",
    "\n",
    "# Calculation of the quality factor\n",
    "worksheet.write(\"J18\",\"Q\",param_format)\n",
    "worksheet.write_formula(\"K18\",\"=SQRT(K11/K13)/K17\")\n",
    "worksheet.write(\"L18\",\"\\u03A9\",um_format)\n",
    "\n",
    "# Calculation of resonant frequency\n",
    "worksheet.write(\"J19\",\"fr\",param_format)\n",
    "# worksheet.write_formula('K19', \"=PI()\")\n",
    "worksheet.write_formula(\"K19\",\"=1/(2*PI()*SQRT(K11*K13))\")\n",
    "worksheet.write(\"L19\",\"Hz\",um_format)\n",
    "\n",
    "# Calculation of normalized frequency\n",
    "worksheet.write(\"J20\",\"fn\",param_format)\n",
    "worksheet.write_formula(\"K20\",\"=K14/K19\")\n",
    "worksheet.write(\"L20\",\"-\",um_format)\n",
    "\n",
    "# Calculation of inductance gain\n",
    "worksheet.write(\"J21\",\"Ln\",param_format)\n",
    "worksheet.write_formula(\"K21\",\"=(K11+K12)/K11\")\n",
    "worksheet.write(\"L21\",\"H\",um_format)\n",
    "\n",
    "# Calculation of the fdt in the working point\n",
    "worksheet.write(\"J23\",\"M(f)\",result_format)\n",
    "worksheet.write_formula(\"K23\",\"=((($K14/$K$19)^2)*($K$21-1))/(SQRT((($K$21*(($K14/$K$19)^2)-1)^2)+((($K14/$K$19)^2)*(((($K14/$K$19)^2)-1)^2)*(($K$21-1)^2)*($K$18^2))))\",result_format)\n",
    "worksheet.write(\"L23\",\"-\",result_format)\n",
    "\n",
    "# define the table to calculate the gain fdt\n",
    "worksheet.write(\"B50\",\"f\",param_format)\n",
    "# Example how to Define the vector of 20 numbers from 0 to 300\n",
    "# vector = list(range(0, 301, 15))[:20]\n",
    "# or\n",
    "f = np.linspace(fsw*0.1,fsw*100,3000)\n",
    "# Set the starting cell in Excel (B2)\n",
    "start_row_f = 50  # Excel rows are 0-indexed, so B2 is row 1\n",
    "start_col_f = 1  # B is the second column, so it is column 1\n",
    "# Write the vector to the Excel column\n",
    "for i, value in enumerate(f):\n",
    "    worksheet.write(start_row_f + i, start_col_f, value)\n",
    "\n",
    "worksheet.write(\"C50\",\"M(f)\",param_format)\n",
    "for i in range(len(f)):\n",
    "    M_fdt = '=(((B{}/$K$19)^2)*($K$21-1))/(SQRT((($K$21*((INDIRECT(\"B{}\")/$K$19)^2)-1)^2)+(((INDIRECT(\"B{}\")/$K$19)^2)*((((INDIRECT(\"B{}\")/$K$19)^2)-1)^2)*(($K$21-1)^2)*($K$18^2))))'.format(start_row_f + i + 1, start_row_f + i + 1, start_row_f + i + 1, start_row_f + i + 1)\n",
    "    worksheet.write_formula(start_row_f + i, start_col_f+1, M_fdt)\n",
    "\n",
    "# Insert plot\n",
    "# Create a chart object\n",
    "chart = workbook.add_chart({'type': 'scatter', 'subtype': 'smooth'})\n",
    "# Configure the chart series using the f and M_fdt data\n",
    "chart.add_series({\n",
    "    'name':       'M(f)',\n",
    "    'categories': ['Base', start_row_f, start_col_f, start_row_f + len(f) - 1, start_col_f],  # f values\n",
    "    'values':     ['Base', start_row_f, start_col_f + 1, start_row_f + len(f) - 1, start_col_f + 1],  # M_fdt values\n",
    "    # 'marker': {'type': 'circle'},  # Marker style\n",
    "    'line': {'smooth': True, 'color': 'black'},\n",
    "})\n",
    "# Set the X-axis to logarithmic scale\n",
    "chart.set_x_axis({'name': 'f (Hz)', 'log_base': 10, 'min': fsw*0.1, 'major_gridlines': {'visible': True}, 'minor_gridlines': {'visible': True}})\n",
    "chart.set_y_axis({'name': 'M'})\n",
    "# Set the chart title\n",
    "chart.set_title({'name': 'Resonant tank transfer function'})\n",
    "# Insert the chart into the worksheet\n",
    "worksheet.insert_chart('J25', chart)\n",
    "\n",
    "# Insert images\n",
    "worksheet.insert_image('A11', 'LLC_Circuit.png')\n",
    "worksheet.insert_image('A27', 'LLC_Formula.png')\n",
    "\n",
    "workbook.close()\n",
    "writer.close()"
   ]
  },
  {
   "cell_type": "markdown",
   "metadata": {},
   "source": [
    "# extract point from an image"
   ]
  },
  {
   "cell_type": "code",
   "execution_count": 1,
   "metadata": {},
   "outputs": [
    {
     "data": {
      "image/png": "[encoded data removed]",
      "text/plain": [
       "<Figure size 640x480 with 1 Axes>"
      ]
     },
     "metadata": {},
     "output_type": "display_data"
    }
   ],
   "source": [
    "import numpy as np\n",
    "import matplotlib.pyplot as plt\n",
    "\n",
    "def find_points_on_plot(x, y, threshold=0.1):\n",
    "    points = []\n",
    "    \n",
    "    # Calculate the first derivative (slope) of the line\n",
    "    slopes = np.diff(y) / np.diff(x)\n",
    "    \n",
    "    # Find points where the slope changes sign\n",
    "    sign_changes = np.where(np.diff(np.sign(slopes)))[0]\n",
    "    \n",
    "    for idx in sign_changes:\n",
    "        # Add points on either side of the sign change to the result\n",
    "        x_point = (x[idx] + x[idx + 1]) / 2\n",
    "        y_point = (y[idx] + y[idx + 1]) / 2\n",
    "        \n",
    "        # Ensure the difference between consecutive points is significant\n",
    "        if np.abs(y[idx + 1] - y[idx]) > threshold:\n",
    "            points.append((x_point, y_point))\n",
    "    \n",
    "    return points\n",
    "\n",
    "# Example usage\n",
    "x_data = np.linspace(0, 10, 100)\n",
    "y_data = np.sin(x_data)  # Replace this with your actual data\n",
    "\n",
    "# Add some noise to the data to make it more realistic\n",
    "y_data += np.random.normal(0, 0.1, size=len(x_data))\n",
    "\n",
    "plt.plot(x_data, y_data, label='Continuous Line')\n",
    "plt.scatter(*zip(*find_points_on_plot(x_data, y_data)), color='red', label='Detected Points')\n",
    "plt.legend()\n",
    "plt.show()"
   ]
  }
 ],
 "metadata": {
  "kernelspec": {
   "display_name": "Python 3",
   "language": "python",
   "name": "python3"
  },
  "language_info": {
   "codemirror_mode": {
    "name": "ipython",
    "version": 3
   },
   "file_extension": ".py",
   "mimetype": "text/x-python",
   "name": "python",
   "nbconvert_exporter": "python",
   "pygments_lexer": "ipython3",
   "version": "3.12.0"
  }
 },
 "nbformat": 4,
 "nbformat_minor": 2
}
